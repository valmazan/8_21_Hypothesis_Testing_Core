{
 "cells": [
  {
   "cell_type": "markdown",
   "id": "b8598a7b",
   "metadata": {},
   "source": [
    "# Hypothesis Testing with Insurance Data (Core)"
   ]
  },
  {
   "cell_type": "markdown",
   "id": "9c3378c0",
   "metadata": {},
   "source": [
    "For this assignment, we will be working with the US Health Insurance Dataset from Kaggle.\n",
    "\n",
    "We have been asked to use our hypothesis testing skills to answer the following questions:\n",
    "\n",
    "- Q1. Do smokers have higher insurance charges than non-smokers?\n",
    "- Q2. Are men more likely to smoke than women?\n",
    "- Q3. Do different regions have different charges, on average?"
   ]
  },
  {
   "cell_type": "markdown",
   "id": "0192847c",
   "metadata": {},
   "source": [
    "For each question, make sure to:\n",
    "\n",
    "1. State your Null Hypothesis and Alternative Hypothesis\n",
    "2. Select the correct test according to the data type and number of samples\n",
    "3. Test the assumptions of your selected test.\n",
    "4. Execute the selected test, or the alternative test (if you do not meet the assumptions)\n",
    "5. Interpret your p-value and reject or fail to reject your null hypothesis \n",
    "6. Show a supporting visualization that helps display the result"
   ]
  },
  {
   "cell_type": "markdown",
   "id": "cb3ee3f4",
   "metadata": {},
   "source": [
    "---"
   ]
  },
  {
   "cell_type": "markdown",
   "id": "ccb417d9",
   "metadata": {},
   "source": [
    "## Q1. Do smokers have higher insurance charges than non-smokers?"
   ]
  },
  {
   "cell_type": "markdown",
   "id": "fd7440ee",
   "metadata": {},
   "source": [
    "### 1. State the Alternative Hypothesis & Null Hypothesis\n"
   ]
  },
  {
   "cell_type": "markdown",
   "id": "d5e72021",
   "metadata": {},
   "source": [
    "- Null Hypothesis: There is no difference between smokers and non smokers having higher insurance charges.\n",
    "- Alternative Hypothesis: There is a significant difference between higher insurance charges for smokers than non smokers."
   ]
  },
  {
   "cell_type": "markdown",
   "id": "831b12cd",
   "metadata": {},
   "source": [
    "### 2. Select the correct test according to the data type and number of samples"
   ]
  },
  {
   "cell_type": "markdown",
   "id": "2bd103a6",
   "metadata": {},
   "source": [
    "- 'Numeric' data. \n",
    "- We also have 2 Sample/groups.\n",
    "- Lastly, we will run a 2 sample T-Test"
   ]
  },
  {
   "cell_type": "code",
   "execution_count": 125,
   "id": "d4db7fa2",
   "metadata": {},
   "outputs": [],
   "source": [
    "import pandas as pd\n",
    "import numpy as np\n",
    "\n",
    "import matplotlib as mpl\n",
    "import matplotlib.pyplot as plt\n",
    "import seaborn as sns\n",
    "from scipy import stats\n",
    "import scipy"
   ]
  },
  {
   "cell_type": "code",
   "execution_count": 126,
   "id": "dd7038ce",
   "metadata": {},
   "outputs": [
    {
     "name": "stdout",
     "output_type": "stream",
     "text": [
      "<class 'pandas.core.frame.DataFrame'>\n",
      "RangeIndex: 1338 entries, 0 to 1337\n",
      "Data columns (total 7 columns):\n",
      " #   Column    Non-Null Count  Dtype  \n",
      "---  ------    --------------  -----  \n",
      " 0   age       1338 non-null   int64  \n",
      " 1   sex       1338 non-null   object \n",
      " 2   bmi       1338 non-null   float64\n",
      " 3   children  1338 non-null   int64  \n",
      " 4   smoker    1338 non-null   object \n",
      " 5   region    1338 non-null   object \n",
      " 6   charges   1338 non-null   float64\n",
      "dtypes: float64(2), int64(2), object(3)\n",
      "memory usage: 73.3+ KB\n"
     ]
    },
    {
     "data": {
      "text/html": [
       "<div>\n",
       "<style scoped>\n",
       "    .dataframe tbody tr th:only-of-type {\n",
       "        vertical-align: middle;\n",
       "    }\n",
       "\n",
       "    .dataframe tbody tr th {\n",
       "        vertical-align: top;\n",
       "    }\n",
       "\n",
       "    .dataframe thead th {\n",
       "        text-align: right;\n",
       "    }\n",
       "</style>\n",
       "<table border=\"1\" class=\"dataframe\">\n",
       "  <thead>\n",
       "    <tr style=\"text-align: right;\">\n",
       "      <th></th>\n",
       "      <th>age</th>\n",
       "      <th>sex</th>\n",
       "      <th>bmi</th>\n",
       "      <th>children</th>\n",
       "      <th>smoker</th>\n",
       "      <th>region</th>\n",
       "      <th>charges</th>\n",
       "    </tr>\n",
       "  </thead>\n",
       "  <tbody>\n",
       "    <tr>\n",
       "      <th>0</th>\n",
       "      <td>19</td>\n",
       "      <td>female</td>\n",
       "      <td>27.900</td>\n",
       "      <td>0</td>\n",
       "      <td>yes</td>\n",
       "      <td>southwest</td>\n",
       "      <td>16884.92400</td>\n",
       "    </tr>\n",
       "    <tr>\n",
       "      <th>1</th>\n",
       "      <td>18</td>\n",
       "      <td>male</td>\n",
       "      <td>33.770</td>\n",
       "      <td>1</td>\n",
       "      <td>no</td>\n",
       "      <td>southeast</td>\n",
       "      <td>1725.55230</td>\n",
       "    </tr>\n",
       "    <tr>\n",
       "      <th>2</th>\n",
       "      <td>28</td>\n",
       "      <td>male</td>\n",
       "      <td>33.000</td>\n",
       "      <td>3</td>\n",
       "      <td>no</td>\n",
       "      <td>southeast</td>\n",
       "      <td>4449.46200</td>\n",
       "    </tr>\n",
       "    <tr>\n",
       "      <th>3</th>\n",
       "      <td>33</td>\n",
       "      <td>male</td>\n",
       "      <td>22.705</td>\n",
       "      <td>0</td>\n",
       "      <td>no</td>\n",
       "      <td>northwest</td>\n",
       "      <td>21984.47061</td>\n",
       "    </tr>\n",
       "    <tr>\n",
       "      <th>4</th>\n",
       "      <td>32</td>\n",
       "      <td>male</td>\n",
       "      <td>28.880</td>\n",
       "      <td>0</td>\n",
       "      <td>no</td>\n",
       "      <td>northwest</td>\n",
       "      <td>3866.85520</td>\n",
       "    </tr>\n",
       "  </tbody>\n",
       "</table>\n",
       "</div>"
      ],
      "text/plain": [
       "   age     sex     bmi  children smoker     region      charges\n",
       "0   19  female  27.900         0    yes  southwest  16884.92400\n",
       "1   18    male  33.770         1     no  southeast   1725.55230\n",
       "2   28    male  33.000         3     no  southeast   4449.46200\n",
       "3   33    male  22.705         0     no  northwest  21984.47061\n",
       "4   32    male  28.880         0     no  northwest   3866.85520"
      ]
     },
     "execution_count": 126,
     "metadata": {},
     "output_type": "execute_result"
    }
   ],
   "source": [
    "df = pd.read_csv('Data/insurance_insurance.csv')\n",
    "df.info()\n",
    "df.head()"
   ]
  },
  {
   "cell_type": "code",
   "execution_count": 127,
   "id": "946b7f35",
   "metadata": {},
   "outputs": [
    {
     "data": {
      "text/plain": [
       "0       16885.0\n",
       "1        1726.0\n",
       "2        4449.0\n",
       "3       21984.0\n",
       "4        3867.0\n",
       "         ...   \n",
       "1333    10601.0\n",
       "1334     2206.0\n",
       "1335     1630.0\n",
       "1336     2008.0\n",
       "1337    29141.0\n",
       "Name: charges, Length: 1338, dtype: float64"
      ]
     },
     "execution_count": 127,
     "metadata": {},
     "output_type": "execute_result"
    }
   ],
   "source": [
    "df['charges'].round()\n"
   ]
  },
  {
   "cell_type": "code",
   "execution_count": 128,
   "id": "5a5af75a",
   "metadata": {},
   "outputs": [
    {
     "data": {
      "text/plain": [
       "no     1064\n",
       "yes     274\n",
       "Name: smoker, dtype: int64"
      ]
     },
     "execution_count": 128,
     "metadata": {},
     "output_type": "execute_result"
    }
   ],
   "source": [
    "df['smoker'].value_counts()\n"
   ]
  },
  {
   "cell_type": "code",
   "execution_count": 159,
   "id": "af0302b0",
   "metadata": {},
   "outputs": [
    {
     "data": {
      "text/plain": [
       "True     1064\n",
       "False     274\n",
       "Name: non_smoker, dtype: int64"
      ]
     },
     "execution_count": 159,
     "metadata": {},
     "output_type": "execute_result"
    }
   ],
   "source": [
    "df['non_smoker'] = df['smoker'].str.contains('no')\n",
    "df['non_smoker'].value_counts()"
   ]
  },
  {
   "cell_type": "code",
   "execution_count": 130,
   "id": "dc80c638",
   "metadata": {},
   "outputs": [
    {
     "data": {
      "text/html": [
       "<div>\n",
       "<style scoped>\n",
       "    .dataframe tbody tr th:only-of-type {\n",
       "        vertical-align: middle;\n",
       "    }\n",
       "\n",
       "    .dataframe tbody tr th {\n",
       "        vertical-align: top;\n",
       "    }\n",
       "\n",
       "    .dataframe thead th {\n",
       "        text-align: right;\n",
       "    }\n",
       "</style>\n",
       "<table border=\"1\" class=\"dataframe\">\n",
       "  <thead>\n",
       "    <tr style=\"text-align: right;\">\n",
       "      <th></th>\n",
       "      <th>non_smoker</th>\n",
       "      <th>charges</th>\n",
       "    </tr>\n",
       "  </thead>\n",
       "  <tbody>\n",
       "    <tr>\n",
       "      <th>0</th>\n",
       "      <td>False</td>\n",
       "      <td>16884.92400</td>\n",
       "    </tr>\n",
       "    <tr>\n",
       "      <th>1</th>\n",
       "      <td>True</td>\n",
       "      <td>1725.55230</td>\n",
       "    </tr>\n",
       "    <tr>\n",
       "      <th>2</th>\n",
       "      <td>True</td>\n",
       "      <td>4449.46200</td>\n",
       "    </tr>\n",
       "    <tr>\n",
       "      <th>3</th>\n",
       "      <td>True</td>\n",
       "      <td>21984.47061</td>\n",
       "    </tr>\n",
       "    <tr>\n",
       "      <th>4</th>\n",
       "      <td>True</td>\n",
       "      <td>3866.85520</td>\n",
       "    </tr>\n",
       "    <tr>\n",
       "      <th>...</th>\n",
       "      <td>...</td>\n",
       "      <td>...</td>\n",
       "    </tr>\n",
       "    <tr>\n",
       "      <th>1333</th>\n",
       "      <td>True</td>\n",
       "      <td>10600.54830</td>\n",
       "    </tr>\n",
       "    <tr>\n",
       "      <th>1334</th>\n",
       "      <td>True</td>\n",
       "      <td>2205.98080</td>\n",
       "    </tr>\n",
       "    <tr>\n",
       "      <th>1335</th>\n",
       "      <td>True</td>\n",
       "      <td>1629.83350</td>\n",
       "    </tr>\n",
       "    <tr>\n",
       "      <th>1336</th>\n",
       "      <td>True</td>\n",
       "      <td>2007.94500</td>\n",
       "    </tr>\n",
       "    <tr>\n",
       "      <th>1337</th>\n",
       "      <td>False</td>\n",
       "      <td>29141.36030</td>\n",
       "    </tr>\n",
       "  </tbody>\n",
       "</table>\n",
       "<p>1338 rows × 2 columns</p>\n",
       "</div>"
      ],
      "text/plain": [
       "      non_smoker      charges\n",
       "0          False  16884.92400\n",
       "1           True   1725.55230\n",
       "2           True   4449.46200\n",
       "3           True  21984.47061\n",
       "4           True   3866.85520\n",
       "...          ...          ...\n",
       "1333        True  10600.54830\n",
       "1334        True   2205.98080\n",
       "1335        True   1629.83350\n",
       "1336        True   2007.94500\n",
       "1337       False  29141.36030\n",
       "\n",
       "[1338 rows x 2 columns]"
      ]
     },
     "execution_count": 130,
     "metadata": {},
     "output_type": "execute_result"
    }
   ],
   "source": [
    "needed_cols = ['non_smoker','charges']\n",
    "\n",
    "df[needed_cols]"
   ]
  },
  {
   "cell_type": "code",
   "execution_count": 131,
   "id": "e3b52f3d",
   "metadata": {},
   "outputs": [
    {
     "data": {
      "text/html": [
       "<div>\n",
       "<style scoped>\n",
       "    .dataframe tbody tr th:only-of-type {\n",
       "        vertical-align: middle;\n",
       "    }\n",
       "\n",
       "    .dataframe tbody tr th {\n",
       "        vertical-align: top;\n",
       "    }\n",
       "\n",
       "    .dataframe thead th {\n",
       "        text-align: right;\n",
       "    }\n",
       "</style>\n",
       "<table border=\"1\" class=\"dataframe\">\n",
       "  <thead>\n",
       "    <tr style=\"text-align: right;\">\n",
       "      <th></th>\n",
       "      <th>non_smoker</th>\n",
       "      <th>charges</th>\n",
       "    </tr>\n",
       "  </thead>\n",
       "  <tbody>\n",
       "    <tr>\n",
       "      <th>0</th>\n",
       "      <td>False</td>\n",
       "      <td>16884.92400</td>\n",
       "    </tr>\n",
       "    <tr>\n",
       "      <th>11</th>\n",
       "      <td>False</td>\n",
       "      <td>27808.72510</td>\n",
       "    </tr>\n",
       "    <tr>\n",
       "      <th>14</th>\n",
       "      <td>False</td>\n",
       "      <td>39611.75770</td>\n",
       "    </tr>\n",
       "    <tr>\n",
       "      <th>19</th>\n",
       "      <td>False</td>\n",
       "      <td>36837.46700</td>\n",
       "    </tr>\n",
       "    <tr>\n",
       "      <th>23</th>\n",
       "      <td>False</td>\n",
       "      <td>37701.87680</td>\n",
       "    </tr>\n",
       "    <tr>\n",
       "      <th>...</th>\n",
       "      <td>...</td>\n",
       "      <td>...</td>\n",
       "    </tr>\n",
       "    <tr>\n",
       "      <th>1313</th>\n",
       "      <td>False</td>\n",
       "      <td>36397.57600</td>\n",
       "    </tr>\n",
       "    <tr>\n",
       "      <th>1314</th>\n",
       "      <td>False</td>\n",
       "      <td>18765.87545</td>\n",
       "    </tr>\n",
       "    <tr>\n",
       "      <th>1321</th>\n",
       "      <td>False</td>\n",
       "      <td>28101.33305</td>\n",
       "    </tr>\n",
       "    <tr>\n",
       "      <th>1323</th>\n",
       "      <td>False</td>\n",
       "      <td>43896.37630</td>\n",
       "    </tr>\n",
       "    <tr>\n",
       "      <th>1337</th>\n",
       "      <td>False</td>\n",
       "      <td>29141.36030</td>\n",
       "    </tr>\n",
       "  </tbody>\n",
       "</table>\n",
       "<p>274 rows × 2 columns</p>\n",
       "</div>"
      ],
      "text/plain": [
       "      non_smoker      charges\n",
       "0          False  16884.92400\n",
       "11         False  27808.72510\n",
       "14         False  39611.75770\n",
       "19         False  36837.46700\n",
       "23         False  37701.87680\n",
       "...          ...          ...\n",
       "1313       False  36397.57600\n",
       "1314       False  18765.87545\n",
       "1321       False  28101.33305\n",
       "1323       False  43896.37630\n",
       "1337       False  29141.36030\n",
       "\n",
       "[274 rows x 2 columns]"
      ]
     },
     "execution_count": 131,
     "metadata": {},
     "output_type": "execute_result"
    }
   ],
   "source": [
    "smoker = df.loc[df['non_smoker']== False, needed_cols]\n",
    "smoker"
   ]
  },
  {
   "cell_type": "code",
   "execution_count": 132,
   "id": "de76d636",
   "metadata": {},
   "outputs": [
    {
     "data": {
      "text/html": [
       "<div>\n",
       "<style scoped>\n",
       "    .dataframe tbody tr th:only-of-type {\n",
       "        vertical-align: middle;\n",
       "    }\n",
       "\n",
       "    .dataframe tbody tr th {\n",
       "        vertical-align: top;\n",
       "    }\n",
       "\n",
       "    .dataframe thead th {\n",
       "        text-align: right;\n",
       "    }\n",
       "</style>\n",
       "<table border=\"1\" class=\"dataframe\">\n",
       "  <thead>\n",
       "    <tr style=\"text-align: right;\">\n",
       "      <th></th>\n",
       "      <th>non_smoker</th>\n",
       "      <th>charges</th>\n",
       "    </tr>\n",
       "  </thead>\n",
       "  <tbody>\n",
       "    <tr>\n",
       "      <th>1</th>\n",
       "      <td>True</td>\n",
       "      <td>1725.55230</td>\n",
       "    </tr>\n",
       "    <tr>\n",
       "      <th>2</th>\n",
       "      <td>True</td>\n",
       "      <td>4449.46200</td>\n",
       "    </tr>\n",
       "    <tr>\n",
       "      <th>3</th>\n",
       "      <td>True</td>\n",
       "      <td>21984.47061</td>\n",
       "    </tr>\n",
       "    <tr>\n",
       "      <th>4</th>\n",
       "      <td>True</td>\n",
       "      <td>3866.85520</td>\n",
       "    </tr>\n",
       "    <tr>\n",
       "      <th>5</th>\n",
       "      <td>True</td>\n",
       "      <td>3756.62160</td>\n",
       "    </tr>\n",
       "    <tr>\n",
       "      <th>...</th>\n",
       "      <td>...</td>\n",
       "      <td>...</td>\n",
       "    </tr>\n",
       "    <tr>\n",
       "      <th>1332</th>\n",
       "      <td>True</td>\n",
       "      <td>11411.68500</td>\n",
       "    </tr>\n",
       "    <tr>\n",
       "      <th>1333</th>\n",
       "      <td>True</td>\n",
       "      <td>10600.54830</td>\n",
       "    </tr>\n",
       "    <tr>\n",
       "      <th>1334</th>\n",
       "      <td>True</td>\n",
       "      <td>2205.98080</td>\n",
       "    </tr>\n",
       "    <tr>\n",
       "      <th>1335</th>\n",
       "      <td>True</td>\n",
       "      <td>1629.83350</td>\n",
       "    </tr>\n",
       "    <tr>\n",
       "      <th>1336</th>\n",
       "      <td>True</td>\n",
       "      <td>2007.94500</td>\n",
       "    </tr>\n",
       "  </tbody>\n",
       "</table>\n",
       "<p>1064 rows × 2 columns</p>\n",
       "</div>"
      ],
      "text/plain": [
       "      non_smoker      charges\n",
       "1           True   1725.55230\n",
       "2           True   4449.46200\n",
       "3           True  21984.47061\n",
       "4           True   3866.85520\n",
       "5           True   3756.62160\n",
       "...          ...          ...\n",
       "1332        True  11411.68500\n",
       "1333        True  10600.54830\n",
       "1334        True   2205.98080\n",
       "1335        True   1629.83350\n",
       "1336        True   2007.94500\n",
       "\n",
       "[1064 rows x 2 columns]"
      ]
     },
     "execution_count": 132,
     "metadata": {},
     "output_type": "execute_result"
    }
   ],
   "source": [
    "non_smokers = df.loc[df['non_smoker']== True, needed_cols]\n",
    "non_smokers"
   ]
  },
  {
   "cell_type": "code",
   "execution_count": 133,
   "id": "5b2fbe1f",
   "metadata": {},
   "outputs": [
    {
     "data": {
      "text/html": [
       "<div>\n",
       "<style scoped>\n",
       "    .dataframe tbody tr th:only-of-type {\n",
       "        vertical-align: middle;\n",
       "    }\n",
       "\n",
       "    .dataframe tbody tr th {\n",
       "        vertical-align: top;\n",
       "    }\n",
       "\n",
       "    .dataframe thead th {\n",
       "        text-align: right;\n",
       "    }\n",
       "</style>\n",
       "<table border=\"1\" class=\"dataframe\">\n",
       "  <thead>\n",
       "    <tr style=\"text-align: right;\">\n",
       "      <th></th>\n",
       "      <th>non_smoker</th>\n",
       "      <th>charges</th>\n",
       "    </tr>\n",
       "  </thead>\n",
       "  <tbody>\n",
       "    <tr>\n",
       "      <th>0</th>\n",
       "      <td>False</td>\n",
       "      <td>16884.9240</td>\n",
       "    </tr>\n",
       "    <tr>\n",
       "      <th>11</th>\n",
       "      <td>False</td>\n",
       "      <td>27808.7251</td>\n",
       "    </tr>\n",
       "    <tr>\n",
       "      <th>14</th>\n",
       "      <td>False</td>\n",
       "      <td>39611.7577</td>\n",
       "    </tr>\n",
       "    <tr>\n",
       "      <th>19</th>\n",
       "      <td>False</td>\n",
       "      <td>36837.4670</td>\n",
       "    </tr>\n",
       "    <tr>\n",
       "      <th>23</th>\n",
       "      <td>False</td>\n",
       "      <td>37701.8768</td>\n",
       "    </tr>\n",
       "    <tr>\n",
       "      <th>...</th>\n",
       "      <td>...</td>\n",
       "      <td>...</td>\n",
       "    </tr>\n",
       "    <tr>\n",
       "      <th>1332</th>\n",
       "      <td>True</td>\n",
       "      <td>11411.6850</td>\n",
       "    </tr>\n",
       "    <tr>\n",
       "      <th>1333</th>\n",
       "      <td>True</td>\n",
       "      <td>10600.5483</td>\n",
       "    </tr>\n",
       "    <tr>\n",
       "      <th>1334</th>\n",
       "      <td>True</td>\n",
       "      <td>2205.9808</td>\n",
       "    </tr>\n",
       "    <tr>\n",
       "      <th>1335</th>\n",
       "      <td>True</td>\n",
       "      <td>1629.8335</td>\n",
       "    </tr>\n",
       "    <tr>\n",
       "      <th>1336</th>\n",
       "      <td>True</td>\n",
       "      <td>2007.9450</td>\n",
       "    </tr>\n",
       "  </tbody>\n",
       "</table>\n",
       "<p>1338 rows × 2 columns</p>\n",
       "</div>"
      ],
      "text/plain": [
       "      non_smoker     charges\n",
       "0          False  16884.9240\n",
       "11         False  27808.7251\n",
       "14         False  39611.7577\n",
       "19         False  36837.4670\n",
       "23         False  37701.8768\n",
       "...          ...         ...\n",
       "1332        True  11411.6850\n",
       "1333        True  10600.5483\n",
       "1334        True   2205.9808\n",
       "1335        True   1629.8335\n",
       "1336        True   2007.9450\n",
       "\n",
       "[1338 rows x 2 columns]"
      ]
     },
     "execution_count": 133,
     "metadata": {},
     "output_type": "execute_result"
    }
   ],
   "source": [
    "plot_df = pd.concat([smoker, non_smokers])\n",
    "\n",
    "plot_df"
   ]
  },
  {
   "cell_type": "code",
   "execution_count": 144,
   "id": "2a56d8e4",
   "metadata": {},
   "outputs": [
    {
     "data": {
      "image/png": "[encoded data removed]",
      "text/plain": [
       "<Figure size 640x480 with 1 Axes>"
      ]
     },
     "metadata": {},
     "output_type": "display_data"
    }
   ],
   "source": [
    "ax= sns.barplot(data = plot_df, x= 'non_smoker', y = 'charges')\n"
   ]
  },
  {
   "cell_type": "markdown",
   "id": "c5c02e2d",
   "metadata": {},
   "source": [
    "### 3. Test the assumptions of your selected test."
   ]
  },
  {
   "cell_type": "code",
   "execution_count": 134,
   "id": "a3ddd045",
   "metadata": {},
   "outputs": [
    {
     "data": {
      "text/plain": [
       "0       16884.92400\n",
       "11      27808.72510\n",
       "14      39611.75770\n",
       "19      36837.46700\n",
       "23      37701.87680\n",
       "           ...     \n",
       "1313    36397.57600\n",
       "1314    18765.87545\n",
       "1321    28101.33305\n",
       "1323    43896.37630\n",
       "1337    29141.36030\n",
       "Name: charges, Length: 274, dtype: float64"
      ]
     },
     "execution_count": 134,
     "metadata": {},
     "output_type": "execute_result"
    }
   ],
   "source": [
    "smokers_group = smoker['charges']\n",
    "non_smokers_group = non_smokers['charges']\n",
    "smokers_group"
   ]
  },
  {
   "cell_type": "code",
   "execution_count": 135,
   "id": "5cdf00b3",
   "metadata": {},
   "outputs": [
    {
     "data": {
      "text/plain": [
       "24"
      ]
     },
     "execution_count": 135,
     "metadata": {},
     "output_type": "execute_result"
    }
   ],
   "source": [
    "non_outliers = np.abs(stats.zscore(non_smokers_group)) > 3\n",
    "non_outliers.sum()\n"
   ]
  },
  {
   "cell_type": "code",
   "execution_count": 136,
   "id": "6fbcf05b",
   "metadata": {},
   "outputs": [
    {
     "data": {
      "text/plain": [
       "1        1725.55230\n",
       "2        4449.46200\n",
       "3       21984.47061\n",
       "4        3866.85520\n",
       "5        3756.62160\n",
       "           ...     \n",
       "1332    11411.68500\n",
       "1333    10600.54830\n",
       "1334     2205.98080\n",
       "1335     1629.83350\n",
       "1336     2007.94500\n",
       "Name: charges, Length: 1040, dtype: float64"
      ]
     },
     "execution_count": 136,
     "metadata": {},
     "output_type": "execute_result"
    }
   ],
   "source": [
    "non_smokers_group = non_smokers_group.loc[~non_outliers]\n",
    "non_smokers_group"
   ]
  },
  {
   "cell_type": "code",
   "execution_count": 137,
   "id": "1ed2e2c4",
   "metadata": {},
   "outputs": [
    {
     "data": {
      "text/plain": [
       "0"
      ]
     },
     "execution_count": 137,
     "metadata": {},
     "output_type": "execute_result"
    }
   ],
   "source": [
    "smokers_outliers = np.abs(stats.zscore(smokers_group)) > 3\n",
    "smokers_outliers.sum()"
   ]
  },
  {
   "cell_type": "code",
   "execution_count": 138,
   "id": "875a434b",
   "metadata": {
    "scrolled": true
   },
   "outputs": [
    {
     "data": {
      "text/plain": [
       "0       16884.92400\n",
       "11      27808.72510\n",
       "14      39611.75770\n",
       "19      36837.46700\n",
       "23      37701.87680\n",
       "           ...     \n",
       "1313    36397.57600\n",
       "1314    18765.87545\n",
       "1321    28101.33305\n",
       "1323    43896.37630\n",
       "1337    29141.36030\n",
       "Name: charges, Length: 274, dtype: float64"
      ]
     },
     "execution_count": 138,
     "metadata": {},
     "output_type": "execute_result"
    }
   ],
   "source": [
    "smokers_group = smokers_group.loc[~smokers_outliers]\n",
    "smokers_group"
   ]
  },
  {
   "cell_type": "markdown",
   "id": "22e8e1fb",
   "metadata": {
    "heading_collapsed": true
   },
   "source": [
    "### 4.Execute the selected test, or the alternative test (if you do not meet the assumptions)"
   ]
  },
  {
   "cell_type": "markdown",
   "id": "be627f78",
   "metadata": {
    "hidden": true
   },
   "source": [
    "#### We will start by testing each group for Normality. "
   ]
  },
  {
   "cell_type": "code",
   "execution_count": 139,
   "id": "fdfc6301",
   "metadata": {
    "hidden": true
   },
   "outputs": [
    {
     "data": {
      "text/plain": [
       "NormaltestResult(statistic=163.80367047789198, pvalue=2.6945416315543976e-36)"
      ]
     },
     "execution_count": 139,
     "metadata": {},
     "output_type": "execute_result"
    }
   ],
   "source": [
    "non_smoker_results = stats.normaltest(non_smokers_group)\n",
    "non_smoker_results"
   ]
  },
  {
   "cell_type": "code",
   "execution_count": 160,
   "id": "8670fdc8",
   "metadata": {
    "hidden": true
   },
   "outputs": [
    {
     "data": {
      "text/plain": [
       "1040"
      ]
     },
     "execution_count": 160,
     "metadata": {},
     "output_type": "execute_result"
    }
   ],
   "source": [
    "len(non_smokers_group)"
   ]
  },
  {
   "cell_type": "code",
   "execution_count": 140,
   "id": "a5bfc8e7",
   "metadata": {
    "hidden": true
   },
   "outputs": [
    {
     "data": {
      "text/plain": [
       "NormaltestResult(statistic=61.03941356533816, pvalue=5.564930630036463e-14)"
      ]
     },
     "execution_count": 140,
     "metadata": {},
     "output_type": "execute_result"
    }
   ],
   "source": [
    "smokers_result = stats.normaltest(smokers_group)\n",
    "smokers_result"
   ]
  },
  {
   "cell_type": "code",
   "execution_count": 162,
   "id": "70346f6e",
   "metadata": {
    "hidden": true
   },
   "outputs": [
    {
     "data": {
      "text/plain": [
       "274"
      ]
     },
     "execution_count": 162,
     "metadata": {},
     "output_type": "execute_result"
    }
   ],
   "source": [
    "len(smokers_group)"
   ]
  },
  {
   "cell_type": "markdown",
   "id": "e2b6b1c7",
   "metadata": {
    "hidden": true
   },
   "source": [
    "#### We will also conduct testing for Equal Variance with Levene's Test."
   ]
  },
  {
   "cell_type": "code",
   "execution_count": 141,
   "id": "27a37771",
   "metadata": {
    "hidden": true
   },
   "outputs": [
    {
     "data": {
      "text/plain": [
       "LeveneResult(statistic=520.7468821724297, pvalue=2.4247238784347824e-97)"
      ]
     },
     "execution_count": 141,
     "metadata": {},
     "output_type": "execute_result"
    }
   ],
   "source": [
    "smoke_result = stats.levene(smokers_group, non_smokers_group)\n",
    "smoke_result"
   ]
  },
  {
   "cell_type": "code",
   "execution_count": 163,
   "id": "ba16e267",
   "metadata": {
    "hidden": true
   },
   "outputs": [
    {
     "name": "stdout",
     "output_type": "stream",
     "text": [
      "The groups do NOT have equal variance.\n"
     ]
    }
   ],
   "source": [
    "if smoke_result.pvalue < .05:\n",
    "    print(f\"The groups do NOT have equal variance.\")\n",
    "else:\n",
    "    print(f\"The groups DO have equal variance.\")"
   ]
  },
  {
   "cell_type": "markdown",
   "id": "946515ae",
   "metadata": {
    "hidden": true
   },
   "source": [
    "#### Conducting Final Hypothesis Independent T-Test"
   ]
  },
  {
   "cell_type": "code",
   "execution_count": 165,
   "id": "7b15a15b",
   "metadata": {
    "hidden": true
   },
   "outputs": [
    {
     "name": "stdout",
     "output_type": "stream",
     "text": [
      "Ttest_indResult(statistic=33.732305987092516, pvalue=2.575322662587431e-104)\n"
     ]
    },
    {
     "data": {
      "text/plain": [
       "True"
      ]
     },
     "execution_count": 165,
     "metadata": {},
     "output_type": "execute_result"
    }
   ],
   "source": [
    "smoker_ttest = stats.ttest_ind(smokers_group,non_smokers_group, equal_var=False)\n",
    "print(smoker_ttest)\n",
    "smoker_ttest.pvalue < .05"
   ]
  },
  {
   "cell_type": "code",
   "execution_count": 143,
   "id": "5c0b126c",
   "metadata": {
    "hidden": true
   },
   "outputs": [
    {
     "name": "stdout",
     "output_type": "stream",
     "text": [
      "p-value=0.0000000000\n",
      "Significant: True\n"
     ]
    }
   ],
   "source": [
    "print(f\"p-value={smoker_ttest.pvalue:.10f}\")\n",
    "print(f\"Significant: {smoker_ttest.pvalue <.05}\")"
   ]
  },
  {
   "cell_type": "markdown",
   "id": "7a5df509",
   "metadata": {
    "heading_collapsed": true
   },
   "source": [
    "### 5. Interpret your p-value and reject or fail to reject your null hypothesis \n"
   ]
  },
  {
   "cell_type": "markdown",
   "id": "aee6c87c",
   "metadata": {
    "hidden": true
   },
   "source": [
    "Based on the p-values above we will proceed with rejecting the null hypothesis and agree with the alternative hypothesis."
   ]
  },
  {
   "cell_type": "markdown",
   "id": "d41cc282",
   "metadata": {
    "hidden": true
   },
   "source": [
    "From the figure above, we can interrupt that smokers do have higher charges, let us continue with testing samples. \n"
   ]
  },
  {
   "cell_type": "markdown",
   "id": "4554333a",
   "metadata": {
    "hidden": true
   },
   "source": [
    "---"
   ]
  },
  {
   "cell_type": "markdown",
   "id": "d3e40a0d",
   "metadata": {},
   "source": [
    "##  Q2. Are men more likely to smoke than women?"
   ]
  },
  {
   "cell_type": "markdown",
   "id": "11c6e274",
   "metadata": {},
   "source": [
    "### 1. State your Null Hypothesis and Alternative Hypothesis."
   ]
  },
  {
   "cell_type": "markdown",
   "id": "0cd4df0d",
   "metadata": {},
   "source": [
    "- Null Hypothesis: There is no difference between men being more likely to smoke than women.\n",
    "- Alternative Hypothesis: There is a significant difference between men being more likely to smoke than women."
   ]
  },
  {
   "cell_type": "markdown",
   "id": "36154d45",
   "metadata": {},
   "source": [
    "### 2. Select the correct test according to the data type and number of samples."
   ]
  },
  {
   "cell_type": "markdown",
   "id": "0104a5eb",
   "metadata": {},
   "source": [
    "For Q2, we are looking at 'Categorical' data.\n",
    "\n"
   ]
  },
  {
   "cell_type": "markdown",
   "id": "69b2c493",
   "metadata": {},
   "source": [
    "- We have 2 samples/groups.\n",
    "- We will be conducting 'Chi=Square'"
   ]
  },
  {
   "cell_type": "code",
   "execution_count": 145,
   "id": "19e40629",
   "metadata": {},
   "outputs": [
    {
     "name": "stdout",
     "output_type": "stream",
     "text": [
      "<class 'pandas.core.frame.DataFrame'>\n",
      "RangeIndex: 1338 entries, 0 to 1337\n",
      "Data columns (total 8 columns):\n",
      " #   Column      Non-Null Count  Dtype  \n",
      "---  ------      --------------  -----  \n",
      " 0   age         1338 non-null   int64  \n",
      " 1   sex         1338 non-null   object \n",
      " 2   bmi         1338 non-null   float64\n",
      " 3   children    1338 non-null   int64  \n",
      " 4   smoker      1338 non-null   object \n",
      " 5   region      1338 non-null   object \n",
      " 6   charges     1338 non-null   float64\n",
      " 7   non_smoker  1338 non-null   bool   \n",
      "dtypes: bool(1), float64(2), int64(2), object(3)\n",
      "memory usage: 74.6+ KB\n"
     ]
    }
   ],
   "source": [
    "df.info()"
   ]
  },
  {
   "cell_type": "code",
   "execution_count": 146,
   "id": "07e097ea",
   "metadata": {},
   "outputs": [
    {
     "data": {
      "text/plain": [
       "male      676\n",
       "female    662\n",
       "Name: sex, dtype: int64"
      ]
     },
     "execution_count": 146,
     "metadata": {},
     "output_type": "execute_result"
    }
   ],
   "source": [
    "df['sex'].value_counts()"
   ]
  },
  {
   "cell_type": "code",
   "execution_count": 147,
   "id": "b4972e3c",
   "metadata": {},
   "outputs": [
    {
     "data": {
      "text/plain": [
       "no     1064\n",
       "yes     274\n",
       "Name: smoker, dtype: int64"
      ]
     },
     "execution_count": 147,
     "metadata": {},
     "output_type": "execute_result"
    }
   ],
   "source": [
    "df['smoker'].value_counts()"
   ]
  },
  {
   "cell_type": "code",
   "execution_count": 166,
   "id": "f59e8395",
   "metadata": {},
   "outputs": [
    {
     "data": {
      "image/png": "[encoded data removed]",
      "text/plain": [
       "<Figure size 640x480 with 1 Axes>"
      ]
     },
     "metadata": {},
     "output_type": "display_data"
    }
   ],
   "source": [
    "ax = sns.countplot(data = df, x= 'sex',hue='non_smoker')\n",
    "ax.set_title(\"Number of Non-Smokers by Sex\");"
   ]
  },
  {
   "cell_type": "code",
   "execution_count": 148,
   "id": "005ad6ec",
   "metadata": {},
   "outputs": [
    {
     "data": {
      "text/plain": [
       "0       False\n",
       "1        True\n",
       "2        True\n",
       "3        True\n",
       "4        True\n",
       "        ...  \n",
       "1333     True\n",
       "1334     True\n",
       "1335     True\n",
       "1336     True\n",
       "1337    False\n",
       "Name: non_smokers, Length: 1338, dtype: bool"
      ]
     },
     "execution_count": 148,
     "metadata": {},
     "output_type": "execute_result"
    }
   ],
   "source": [
    "df['non_smokers'] = df['smoker'].str.contains('no')\n",
    "df['non_smokers']"
   ]
  },
  {
   "cell_type": "code",
   "execution_count": 149,
   "id": "508f9fd5",
   "metadata": {},
   "outputs": [
    {
     "data": {
      "text/html": [
       "<div>\n",
       "<style scoped>\n",
       "    .dataframe tbody tr th:only-of-type {\n",
       "        vertical-align: middle;\n",
       "    }\n",
       "\n",
       "    .dataframe tbody tr th {\n",
       "        vertical-align: top;\n",
       "    }\n",
       "\n",
       "    .dataframe thead th {\n",
       "        text-align: right;\n",
       "    }\n",
       "</style>\n",
       "<table border=\"1\" class=\"dataframe\">\n",
       "  <thead>\n",
       "    <tr style=\"text-align: right;\">\n",
       "      <th></th>\n",
       "      <th>non_smoker</th>\n",
       "      <th>sex</th>\n",
       "    </tr>\n",
       "  </thead>\n",
       "  <tbody>\n",
       "    <tr>\n",
       "      <th>0</th>\n",
       "      <td>False</td>\n",
       "      <td>female</td>\n",
       "    </tr>\n",
       "    <tr>\n",
       "      <th>1</th>\n",
       "      <td>True</td>\n",
       "      <td>male</td>\n",
       "    </tr>\n",
       "    <tr>\n",
       "      <th>2</th>\n",
       "      <td>True</td>\n",
       "      <td>male</td>\n",
       "    </tr>\n",
       "    <tr>\n",
       "      <th>3</th>\n",
       "      <td>True</td>\n",
       "      <td>male</td>\n",
       "    </tr>\n",
       "    <tr>\n",
       "      <th>4</th>\n",
       "      <td>True</td>\n",
       "      <td>male</td>\n",
       "    </tr>\n",
       "    <tr>\n",
       "      <th>...</th>\n",
       "      <td>...</td>\n",
       "      <td>...</td>\n",
       "    </tr>\n",
       "    <tr>\n",
       "      <th>1333</th>\n",
       "      <td>True</td>\n",
       "      <td>male</td>\n",
       "    </tr>\n",
       "    <tr>\n",
       "      <th>1334</th>\n",
       "      <td>True</td>\n",
       "      <td>female</td>\n",
       "    </tr>\n",
       "    <tr>\n",
       "      <th>1335</th>\n",
       "      <td>True</td>\n",
       "      <td>female</td>\n",
       "    </tr>\n",
       "    <tr>\n",
       "      <th>1336</th>\n",
       "      <td>True</td>\n",
       "      <td>female</td>\n",
       "    </tr>\n",
       "    <tr>\n",
       "      <th>1337</th>\n",
       "      <td>False</td>\n",
       "      <td>female</td>\n",
       "    </tr>\n",
       "  </tbody>\n",
       "</table>\n",
       "<p>1338 rows × 2 columns</p>\n",
       "</div>"
      ],
      "text/plain": [
       "      non_smoker     sex\n",
       "0          False  female\n",
       "1           True    male\n",
       "2           True    male\n",
       "3           True    male\n",
       "4           True    male\n",
       "...          ...     ...\n",
       "1333        True    male\n",
       "1334        True  female\n",
       "1335        True  female\n",
       "1336        True  female\n",
       "1337       False  female\n",
       "\n",
       "[1338 rows x 2 columns]"
      ]
     },
     "execution_count": 149,
     "metadata": {},
     "output_type": "execute_result"
    }
   ],
   "source": [
    "columns_needed = ['non_smoker','sex']\n",
    "\n",
    "df[columns_needed]"
   ]
  },
  {
   "cell_type": "code",
   "execution_count": 169,
   "id": "4fa9c841",
   "metadata": {},
   "outputs": [
    {
     "data": {
      "text/plain": [
       "False    676\n",
       "True     662\n",
       "Name: has_female, dtype: int64"
      ]
     },
     "execution_count": 169,
     "metadata": {},
     "output_type": "execute_result"
    }
   ],
   "source": [
    "df['has_female'] = df['sex'].str.contains('female')\n",
    "df['has_female'].value_counts()"
   ]
  },
  {
   "cell_type": "code",
   "execution_count": 179,
   "id": "f2e1be33",
   "metadata": {},
   "outputs": [
    {
     "data": {
      "text/html": [
       "<div>\n",
       "<style scoped>\n",
       "    .dataframe tbody tr th:only-of-type {\n",
       "        vertical-align: middle;\n",
       "    }\n",
       "\n",
       "    .dataframe tbody tr th {\n",
       "        vertical-align: top;\n",
       "    }\n",
       "\n",
       "    .dataframe thead th {\n",
       "        text-align: right;\n",
       "    }\n",
       "</style>\n",
       "<table border=\"1\" class=\"dataframe\">\n",
       "  <thead>\n",
       "    <tr style=\"text-align: right;\">\n",
       "      <th></th>\n",
       "      <th>has_female</th>\n",
       "      <th>non_smoker</th>\n",
       "    </tr>\n",
       "  </thead>\n",
       "  <tbody>\n",
       "    <tr>\n",
       "      <th>0</th>\n",
       "      <td>True</td>\n",
       "      <td>False</td>\n",
       "    </tr>\n",
       "    <tr>\n",
       "      <th>1</th>\n",
       "      <td>False</td>\n",
       "      <td>True</td>\n",
       "    </tr>\n",
       "    <tr>\n",
       "      <th>2</th>\n",
       "      <td>False</td>\n",
       "      <td>True</td>\n",
       "    </tr>\n",
       "    <tr>\n",
       "      <th>3</th>\n",
       "      <td>False</td>\n",
       "      <td>True</td>\n",
       "    </tr>\n",
       "    <tr>\n",
       "      <th>4</th>\n",
       "      <td>False</td>\n",
       "      <td>True</td>\n",
       "    </tr>\n",
       "    <tr>\n",
       "      <th>...</th>\n",
       "      <td>...</td>\n",
       "      <td>...</td>\n",
       "    </tr>\n",
       "    <tr>\n",
       "      <th>1333</th>\n",
       "      <td>False</td>\n",
       "      <td>True</td>\n",
       "    </tr>\n",
       "    <tr>\n",
       "      <th>1334</th>\n",
       "      <td>True</td>\n",
       "      <td>True</td>\n",
       "    </tr>\n",
       "    <tr>\n",
       "      <th>1335</th>\n",
       "      <td>True</td>\n",
       "      <td>True</td>\n",
       "    </tr>\n",
       "    <tr>\n",
       "      <th>1336</th>\n",
       "      <td>True</td>\n",
       "      <td>True</td>\n",
       "    </tr>\n",
       "    <tr>\n",
       "      <th>1337</th>\n",
       "      <td>True</td>\n",
       "      <td>False</td>\n",
       "    </tr>\n",
       "  </tbody>\n",
       "</table>\n",
       "<p>1338 rows × 2 columns</p>\n",
       "</div>"
      ],
      "text/plain": [
       "      has_female  non_smoker\n",
       "0           True       False\n",
       "1          False        True\n",
       "2          False        True\n",
       "3          False        True\n",
       "4          False        True\n",
       "...          ...         ...\n",
       "1333       False        True\n",
       "1334        True        True\n",
       "1335        True        True\n",
       "1336        True        True\n",
       "1337        True       False\n",
       "\n",
       "[1338 rows x 2 columns]"
      ]
     },
     "execution_count": 179,
     "metadata": {},
     "output_type": "execute_result"
    }
   ],
   "source": [
    "cols_needed = ['has_female','non_smoker']\n",
    "\n",
    "df[cols_needed]"
   ]
  },
  {
   "cell_type": "code",
   "execution_count": 180,
   "id": "754b4970",
   "metadata": {},
   "outputs": [
    {
     "data": {
      "text/html": [
       "<div>\n",
       "<style scoped>\n",
       "    .dataframe tbody tr th:only-of-type {\n",
       "        vertical-align: middle;\n",
       "    }\n",
       "\n",
       "    .dataframe tbody tr th {\n",
       "        vertical-align: top;\n",
       "    }\n",
       "\n",
       "    .dataframe thead th {\n",
       "        text-align: right;\n",
       "    }\n",
       "</style>\n",
       "<table border=\"1\" class=\"dataframe\">\n",
       "  <thead>\n",
       "    <tr style=\"text-align: right;\">\n",
       "      <th></th>\n",
       "      <th>has_female</th>\n",
       "      <th>non_smoker</th>\n",
       "    </tr>\n",
       "  </thead>\n",
       "  <tbody>\n",
       "    <tr>\n",
       "      <th>1</th>\n",
       "      <td>False</td>\n",
       "      <td>True</td>\n",
       "    </tr>\n",
       "    <tr>\n",
       "      <th>2</th>\n",
       "      <td>False</td>\n",
       "      <td>True</td>\n",
       "    </tr>\n",
       "    <tr>\n",
       "      <th>3</th>\n",
       "      <td>False</td>\n",
       "      <td>True</td>\n",
       "    </tr>\n",
       "    <tr>\n",
       "      <th>4</th>\n",
       "      <td>False</td>\n",
       "      <td>True</td>\n",
       "    </tr>\n",
       "    <tr>\n",
       "      <th>8</th>\n",
       "      <td>False</td>\n",
       "      <td>True</td>\n",
       "    </tr>\n",
       "    <tr>\n",
       "      <th>...</th>\n",
       "      <td>...</td>\n",
       "      <td>...</td>\n",
       "    </tr>\n",
       "    <tr>\n",
       "      <th>1324</th>\n",
       "      <td>False</td>\n",
       "      <td>True</td>\n",
       "    </tr>\n",
       "    <tr>\n",
       "      <th>1325</th>\n",
       "      <td>False</td>\n",
       "      <td>True</td>\n",
       "    </tr>\n",
       "    <tr>\n",
       "      <th>1327</th>\n",
       "      <td>False</td>\n",
       "      <td>True</td>\n",
       "    </tr>\n",
       "    <tr>\n",
       "      <th>1329</th>\n",
       "      <td>False</td>\n",
       "      <td>True</td>\n",
       "    </tr>\n",
       "    <tr>\n",
       "      <th>1333</th>\n",
       "      <td>False</td>\n",
       "      <td>True</td>\n",
       "    </tr>\n",
       "  </tbody>\n",
       "</table>\n",
       "<p>676 rows × 2 columns</p>\n",
       "</div>"
      ],
      "text/plain": [
       "      has_female  non_smoker\n",
       "1          False        True\n",
       "2          False        True\n",
       "3          False        True\n",
       "4          False        True\n",
       "8          False        True\n",
       "...          ...         ...\n",
       "1324       False        True\n",
       "1325       False        True\n",
       "1327       False        True\n",
       "1329       False        True\n",
       "1333       False        True\n",
       "\n",
       "[676 rows x 2 columns]"
      ]
     },
     "execution_count": 180,
     "metadata": {},
     "output_type": "execute_result"
    }
   ],
   "source": [
    "male_df = df.loc[df['has_female']==False,cols_needed]\n",
    "male_df"
   ]
  },
  {
   "cell_type": "code",
   "execution_count": 181,
   "id": "25836f6b",
   "metadata": {},
   "outputs": [
    {
     "data": {
      "text/html": [
       "<div>\n",
       "<style scoped>\n",
       "    .dataframe tbody tr th:only-of-type {\n",
       "        vertical-align: middle;\n",
       "    }\n",
       "\n",
       "    .dataframe tbody tr th {\n",
       "        vertical-align: top;\n",
       "    }\n",
       "\n",
       "    .dataframe thead th {\n",
       "        text-align: right;\n",
       "    }\n",
       "</style>\n",
       "<table border=\"1\" class=\"dataframe\">\n",
       "  <thead>\n",
       "    <tr style=\"text-align: right;\">\n",
       "      <th></th>\n",
       "      <th>has_female</th>\n",
       "      <th>non_smoker</th>\n",
       "    </tr>\n",
       "  </thead>\n",
       "  <tbody>\n",
       "    <tr>\n",
       "      <th>0</th>\n",
       "      <td>True</td>\n",
       "      <td>False</td>\n",
       "    </tr>\n",
       "    <tr>\n",
       "      <th>5</th>\n",
       "      <td>True</td>\n",
       "      <td>True</td>\n",
       "    </tr>\n",
       "    <tr>\n",
       "      <th>6</th>\n",
       "      <td>True</td>\n",
       "      <td>True</td>\n",
       "    </tr>\n",
       "    <tr>\n",
       "      <th>7</th>\n",
       "      <td>True</td>\n",
       "      <td>True</td>\n",
       "    </tr>\n",
       "    <tr>\n",
       "      <th>9</th>\n",
       "      <td>True</td>\n",
       "      <td>True</td>\n",
       "    </tr>\n",
       "    <tr>\n",
       "      <th>...</th>\n",
       "      <td>...</td>\n",
       "      <td>...</td>\n",
       "    </tr>\n",
       "    <tr>\n",
       "      <th>1332</th>\n",
       "      <td>True</td>\n",
       "      <td>True</td>\n",
       "    </tr>\n",
       "    <tr>\n",
       "      <th>1334</th>\n",
       "      <td>True</td>\n",
       "      <td>True</td>\n",
       "    </tr>\n",
       "    <tr>\n",
       "      <th>1335</th>\n",
       "      <td>True</td>\n",
       "      <td>True</td>\n",
       "    </tr>\n",
       "    <tr>\n",
       "      <th>1336</th>\n",
       "      <td>True</td>\n",
       "      <td>True</td>\n",
       "    </tr>\n",
       "    <tr>\n",
       "      <th>1337</th>\n",
       "      <td>True</td>\n",
       "      <td>False</td>\n",
       "    </tr>\n",
       "  </tbody>\n",
       "</table>\n",
       "<p>662 rows × 2 columns</p>\n",
       "</div>"
      ],
      "text/plain": [
       "      has_female  non_smoker\n",
       "0           True       False\n",
       "5           True        True\n",
       "6           True        True\n",
       "7           True        True\n",
       "9           True        True\n",
       "...          ...         ...\n",
       "1332        True        True\n",
       "1334        True        True\n",
       "1335        True        True\n",
       "1336        True        True\n",
       "1337        True       False\n",
       "\n",
       "[662 rows x 2 columns]"
      ]
     },
     "execution_count": 181,
     "metadata": {},
     "output_type": "execute_result"
    }
   ],
   "source": [
    "female_df = df.loc[df['has_female']==True,cols_needed]\n",
    "female_df"
   ]
  },
  {
   "cell_type": "code",
   "execution_count": 182,
   "id": "2b8e9567",
   "metadata": {},
   "outputs": [
    {
     "data": {
      "text/html": [
       "<div>\n",
       "<style scoped>\n",
       "    .dataframe tbody tr th:only-of-type {\n",
       "        vertical-align: middle;\n",
       "    }\n",
       "\n",
       "    .dataframe tbody tr th {\n",
       "        vertical-align: top;\n",
       "    }\n",
       "\n",
       "    .dataframe thead th {\n",
       "        text-align: right;\n",
       "    }\n",
       "</style>\n",
       "<table border=\"1\" class=\"dataframe\">\n",
       "  <thead>\n",
       "    <tr style=\"text-align: right;\">\n",
       "      <th></th>\n",
       "      <th>has_female</th>\n",
       "      <th>non_smoker</th>\n",
       "    </tr>\n",
       "  </thead>\n",
       "  <tbody>\n",
       "    <tr>\n",
       "      <th>0</th>\n",
       "      <td>True</td>\n",
       "      <td>False</td>\n",
       "    </tr>\n",
       "    <tr>\n",
       "      <th>5</th>\n",
       "      <td>True</td>\n",
       "      <td>True</td>\n",
       "    </tr>\n",
       "    <tr>\n",
       "      <th>6</th>\n",
       "      <td>True</td>\n",
       "      <td>True</td>\n",
       "    </tr>\n",
       "    <tr>\n",
       "      <th>7</th>\n",
       "      <td>True</td>\n",
       "      <td>True</td>\n",
       "    </tr>\n",
       "    <tr>\n",
       "      <th>9</th>\n",
       "      <td>True</td>\n",
       "      <td>True</td>\n",
       "    </tr>\n",
       "    <tr>\n",
       "      <th>...</th>\n",
       "      <td>...</td>\n",
       "      <td>...</td>\n",
       "    </tr>\n",
       "    <tr>\n",
       "      <th>1324</th>\n",
       "      <td>False</td>\n",
       "      <td>True</td>\n",
       "    </tr>\n",
       "    <tr>\n",
       "      <th>1325</th>\n",
       "      <td>False</td>\n",
       "      <td>True</td>\n",
       "    </tr>\n",
       "    <tr>\n",
       "      <th>1327</th>\n",
       "      <td>False</td>\n",
       "      <td>True</td>\n",
       "    </tr>\n",
       "    <tr>\n",
       "      <th>1329</th>\n",
       "      <td>False</td>\n",
       "      <td>True</td>\n",
       "    </tr>\n",
       "    <tr>\n",
       "      <th>1333</th>\n",
       "      <td>False</td>\n",
       "      <td>True</td>\n",
       "    </tr>\n",
       "  </tbody>\n",
       "</table>\n",
       "<p>1338 rows × 2 columns</p>\n",
       "</div>"
      ],
      "text/plain": [
       "      has_female  non_smoker\n",
       "0           True       False\n",
       "5           True        True\n",
       "6           True        True\n",
       "7           True        True\n",
       "9           True        True\n",
       "...          ...         ...\n",
       "1324       False        True\n",
       "1325       False        True\n",
       "1327       False        True\n",
       "1329       False        True\n",
       "1333       False        True\n",
       "\n",
       "[1338 rows x 2 columns]"
      ]
     },
     "execution_count": 182,
     "metadata": {},
     "output_type": "execute_result"
    }
   ],
   "source": [
    "df_combined = pd.concat([female_df, male_df])\n",
    "df_combined"
   ]
  },
  {
   "cell_type": "code",
   "execution_count": 184,
   "id": "0a832b01",
   "metadata": {},
   "outputs": [
    {
     "data": {
      "text/plain": [
       "<AxesSubplot: xlabel='non_smoker', ylabel='has_female'>"
      ]
     },
     "execution_count": 184,
     "metadata": {},
     "output_type": "execute_result"
    },
    {
     "data": {
      "image/png": "[encoded data removed]",
      "text/plain": [
       "<Figure size 640x480 with 1 Axes>"
      ]
     },
     "metadata": {},
     "output_type": "display_data"
    }
   ],
   "source": [
    "sns.barplot(data = df_combined, y='has_female', x='non_smoker')"
   ]
  },
  {
   "cell_type": "code",
   "execution_count": null,
   "id": "8c1714ff",
   "metadata": {},
   "outputs": [],
   "source": []
  },
  {
   "cell_type": "markdown",
   "id": "30bba3d7",
   "metadata": {},
   "source": [
    "### 3. Test the assumptions of your selected test."
   ]
  },
  {
   "cell_type": "markdown",
   "id": "80864d4c",
   "metadata": {},
   "source": [
    "We will also conduct a Chi-Squared test, since we are looking at two categorical variables."
   ]
  },
  {
   "cell_type": "code",
   "execution_count": 185,
   "id": "d763b0be",
   "metadata": {},
   "outputs": [
    {
     "data": {
      "text/html": [
       "<div>\n",
       "<style scoped>\n",
       "    .dataframe tbody tr th:only-of-type {\n",
       "        vertical-align: middle;\n",
       "    }\n",
       "\n",
       "    .dataframe tbody tr th {\n",
       "        vertical-align: top;\n",
       "    }\n",
       "\n",
       "    .dataframe thead th {\n",
       "        text-align: right;\n",
       "    }\n",
       "</style>\n",
       "<table border=\"1\" class=\"dataframe\">\n",
       "  <thead>\n",
       "    <tr style=\"text-align: right;\">\n",
       "      <th>non_smoker</th>\n",
       "      <th>False</th>\n",
       "      <th>True</th>\n",
       "    </tr>\n",
       "    <tr>\n",
       "      <th>sex</th>\n",
       "      <th></th>\n",
       "      <th></th>\n",
       "    </tr>\n",
       "  </thead>\n",
       "  <tbody>\n",
       "    <tr>\n",
       "      <th>female</th>\n",
       "      <td>115</td>\n",
       "      <td>547</td>\n",
       "    </tr>\n",
       "    <tr>\n",
       "      <th>male</th>\n",
       "      <td>159</td>\n",
       "      <td>517</td>\n",
       "    </tr>\n",
       "  </tbody>\n",
       "</table>\n",
       "</div>"
      ],
      "text/plain": [
       "non_smoker  False  True \n",
       "sex                     \n",
       "female        115    547\n",
       "male          159    517"
      ]
     },
     "execution_count": 185,
     "metadata": {},
     "output_type": "execute_result"
    }
   ],
   "source": [
    "table = pd.crosstab(df['sex'], df['non_smoker'])\n",
    "table"
   ]
  },
  {
   "cell_type": "code",
   "execution_count": 186,
   "id": "9e13436f",
   "metadata": {},
   "outputs": [],
   "source": [
    "results = stats.chi2_contingency(table)\n",
    "chi2, p, deg_free, expected_vals = results"
   ]
  },
  {
   "cell_type": "code",
   "execution_count": 187,
   "id": "b147e060",
   "metadata": {},
   "outputs": [
    {
     "name": "stdout",
     "output_type": "stream",
     "text": [
      "0.006548143503580696\n"
     ]
    },
    {
     "data": {
      "text/plain": [
       "True"
      ]
     },
     "execution_count": 187,
     "metadata": {},
     "output_type": "execute_result"
    }
   ],
   "source": [
    "print(p)\n",
    "p<.05"
   ]
  },
  {
   "cell_type": "markdown",
   "id": "a08a7860",
   "metadata": {},
   "source": [
    "### 4. Execute the selected test, or the alternative test (if you do not meet the assumptions)\n"
   ]
  },
  {
   "cell_type": "code",
   "execution_count": 189,
   "id": "c0be9ec3",
   "metadata": {},
   "outputs": [
    {
     "data": {
      "text/plain": [
       "1       True\n",
       "2       True\n",
       "3       True\n",
       "4       True\n",
       "8       True\n",
       "        ... \n",
       "1324    True\n",
       "1325    True\n",
       "1327    True\n",
       "1329    True\n",
       "1333    True\n",
       "Name: non_smoker, Length: 676, dtype: bool"
      ]
     },
     "execution_count": 189,
     "metadata": {},
     "output_type": "execute_result"
    }
   ],
   "source": [
    "m_group = male_df['non_smoker']\n",
    "f_group = female_df['non_smoker']\n",
    "m_group"
   ]
  },
  {
   "cell_type": "code",
   "execution_count": 190,
   "id": "4e27a97c",
   "metadata": {},
   "outputs": [
    {
     "data": {
      "text/plain": [
       "0"
      ]
     },
     "execution_count": 190,
     "metadata": {},
     "output_type": "execute_result"
    }
   ],
   "source": [
    "f_outliers = np.abs(stats.zscore(f_group)) > 3\n",
    "f_outliers.sum()"
   ]
  },
  {
   "cell_type": "code",
   "execution_count": 192,
   "id": "28a5ef52",
   "metadata": {},
   "outputs": [
    {
     "data": {
      "text/plain": [
       "0       False\n",
       "5        True\n",
       "6        True\n",
       "7        True\n",
       "9        True\n",
       "        ...  \n",
       "1332     True\n",
       "1334     True\n",
       "1335     True\n",
       "1336     True\n",
       "1337    False\n",
       "Name: non_smoker, Length: 662, dtype: bool"
      ]
     },
     "execution_count": 192,
     "metadata": {},
     "output_type": "execute_result"
    }
   ],
   "source": [
    "female_group = f_group.loc[~f_outliers]\n",
    "female_group"
   ]
  },
  {
   "cell_type": "code",
   "execution_count": 194,
   "id": "a7029518",
   "metadata": {},
   "outputs": [
    {
     "data": {
      "text/plain": [
       "0"
      ]
     },
     "execution_count": 194,
     "metadata": {},
     "output_type": "execute_result"
    }
   ],
   "source": [
    "m_outliers = np.abs(stats.zscore(m_group)) > 3\n",
    "m_outliers.sum()"
   ]
  },
  {
   "cell_type": "code",
   "execution_count": 195,
   "id": "3faf164e",
   "metadata": {},
   "outputs": [
    {
     "data": {
      "text/plain": [
       "1       True\n",
       "2       True\n",
       "3       True\n",
       "4       True\n",
       "8       True\n",
       "        ... \n",
       "1324    True\n",
       "1325    True\n",
       "1327    True\n",
       "1329    True\n",
       "1333    True\n",
       "Name: non_smoker, Length: 676, dtype: bool"
      ]
     },
     "execution_count": 195,
     "metadata": {},
     "output_type": "execute_result"
    }
   ],
   "source": [
    "m_group = m_group.loc[~ m_outliers]\n",
    "m_group"
   ]
  },
  {
   "cell_type": "markdown",
   "id": "432a18cb",
   "metadata": {},
   "source": [
    "Testing for Normality "
   ]
  },
  {
   "cell_type": "code",
   "execution_count": 198,
   "id": "b3ce9c6e",
   "metadata": {},
   "outputs": [
    {
     "name": "stdout",
     "output_type": "stream",
     "text": [
      "NormaltestResult(statistic=183.33655045439608, pvalue=1.5451615879702295e-40)\n"
     ]
    },
    {
     "data": {
      "text/plain": [
       "True"
      ]
     },
     "execution_count": 198,
     "metadata": {},
     "output_type": "execute_result"
    }
   ],
   "source": [
    "n_result = stats.normaltest(female_group)\n",
    "print(n_result)\n",
    "n_result.pvalue < .05"
   ]
  },
  {
   "cell_type": "code",
   "execution_count": 200,
   "id": "fb8aee3d",
   "metadata": {},
   "outputs": [
    {
     "data": {
      "text/plain": [
       "662"
      ]
     },
     "execution_count": 200,
     "metadata": {},
     "output_type": "execute_result"
    }
   ],
   "source": [
    "len(female_group)"
   ]
  },
  {
   "cell_type": "code",
   "execution_count": 201,
   "id": "dd4aae32",
   "metadata": {},
   "outputs": [
    {
     "data": {
      "text/plain": [
       "NormaltestResult(statistic=122.15639630213954, pvalue=2.9790348129115508e-27)"
      ]
     },
     "execution_count": 201,
     "metadata": {},
     "output_type": "execute_result"
    }
   ],
   "source": [
    "m_result = stats.normaltest(m_group)\n",
    "m_result"
   ]
  },
  {
   "cell_type": "code",
   "execution_count": 202,
   "id": "fcc20d0d",
   "metadata": {},
   "outputs": [
    {
     "data": {
      "text/plain": [
       "676"
      ]
     },
     "execution_count": 202,
     "metadata": {},
     "output_type": "execute_result"
    }
   ],
   "source": [
    "len(m_group)"
   ]
  },
  {
   "cell_type": "markdown",
   "id": "50ec6de5",
   "metadata": {},
   "source": [
    "Testing for Equal Variances"
   ]
  },
  {
   "cell_type": "code",
   "execution_count": 203,
   "id": "5c956d6a",
   "metadata": {},
   "outputs": [
    {
     "name": "stdout",
     "output_type": "stream",
     "text": [
      "LeveneResult(statistic=7.799582538314033, pvalue=0.005300369127378653)\n"
     ]
    }
   ],
   "source": [
    "result = stats.levene (m_group, female_group)\n",
    "print(result)"
   ]
  },
  {
   "cell_type": "code",
   "execution_count": 204,
   "id": "3d82ab79",
   "metadata": {},
   "outputs": [
    {
     "name": "stdout",
     "output_type": "stream",
     "text": [
      "The groups do NOT have equal variance.\n"
     ]
    }
   ],
   "source": [
    "if result.pvalue < .05:\n",
    "    print(f\"The groups do NOT have equal variance.\")\n",
    "else:\n",
    "    print(f\"The groups DO have equal variance.\")"
   ]
  },
  {
   "cell_type": "code",
   "execution_count": null,
   "id": "c775c6f5",
   "metadata": {},
   "outputs": [],
   "source": []
  },
  {
   "cell_type": "markdown",
   "id": "292f4f9e",
   "metadata": {},
   "source": [
    "### 5. Interpret your p-value and reject or fail to reject your null hypothesis \n"
   ]
  },
  {
   "cell_type": "markdown",
   "id": "fdf3c052",
   "metadata": {},
   "source": [
    "For both assumption tests, we will reject the null hypothesis. "
   ]
  },
  {
   "cell_type": "markdown",
   "id": "e490ec70",
   "metadata": {},
   "source": [
    "### 6. Show a supporting visualization that helps display the result\n"
   ]
  },
  {
   "cell_type": "markdown",
   "id": "8c3867b8",
   "metadata": {},
   "source": [
    "##  Q3. Do different regions have different charges, on average?\n",
    "\n"
   ]
  },
  {
   "cell_type": "markdown",
   "id": "71bf72dd",
   "metadata": {},
   "source": [
    "### 1. State your Null Hypothesis and Alternative Hypothesis."
   ]
  },
  {
   "cell_type": "markdown",
   "id": "07a31e1d",
   "metadata": {},
   "source": [
    "- Null Hypothesis: There is no difference between regions having different charges. \n",
    "- Alternative Hypothesis: There is a significant difference between regions "
   ]
  },
  {
   "cell_type": "markdown",
   "id": "25cd9f5f",
   "metadata": {},
   "source": [
    "### 2. Select the correct test according to the data type and number of samples."
   ]
  },
  {
   "cell_type": "markdown",
   "id": "1b4bb47c",
   "metadata": {},
   "source": [
    "- Our Data type is numerical. \n",
    "- 2 samples\n",
    "\n",
    "We will conduct 2 Sample T-Test"
   ]
  },
  {
   "cell_type": "markdown",
   "id": "eb795387",
   "metadata": {},
   "source": [
    "### 3. Test the assumptions of your selected test."
   ]
  },
  {
   "cell_type": "markdown",
   "id": "bd282f1d",
   "metadata": {},
   "source": []
  },
  {
   "cell_type": "code",
   "execution_count": null,
   "id": "227e3950",
   "metadata": {},
   "outputs": [],
   "source": []
  },
  {
   "cell_type": "markdown",
   "id": "1dbf4b05",
   "metadata": {},
   "source": [
    "### 4. Execute the selected test, or the alternative test (if you do not meet the assumptions)"
   ]
  },
  {
   "cell_type": "code",
   "execution_count": 156,
   "id": "895101e5",
   "metadata": {},
   "outputs": [
    {
     "name": "stdout",
     "output_type": "stream",
     "text": [
      "<class 'pandas.core.frame.DataFrame'>\n",
      "RangeIndex: 1338 entries, 0 to 1337\n",
      "Data columns (total 9 columns):\n",
      " #   Column       Non-Null Count  Dtype  \n",
      "---  ------       --------------  -----  \n",
      " 0   age          1338 non-null   int64  \n",
      " 1   sex          1338 non-null   object \n",
      " 2   bmi          1338 non-null   float64\n",
      " 3   children     1338 non-null   int64  \n",
      " 4   smoker       1338 non-null   object \n",
      " 5   region       1338 non-null   object \n",
      " 6   charges      1338 non-null   float64\n",
      " 7   non_smoker   1338 non-null   bool   \n",
      " 8   non_smokers  1338 non-null   bool   \n",
      "dtypes: bool(2), float64(2), int64(2), object(3)\n",
      "memory usage: 75.9+ KB\n"
     ]
    }
   ],
   "source": [
    "df.info()"
   ]
  },
  {
   "cell_type": "code",
   "execution_count": 157,
   "id": "8a512c1c",
   "metadata": {},
   "outputs": [
    {
     "data": {
      "text/plain": [
       "southeast    364\n",
       "southwest    325\n",
       "northwest    325\n",
       "northeast    324\n",
       "Name: region, dtype: int64"
      ]
     },
     "execution_count": 157,
     "metadata": {},
     "output_type": "execute_result"
    }
   ],
   "source": [
    "df['region'].value_counts()"
   ]
  },
  {
   "cell_type": "code",
   "execution_count": 158,
   "id": "cb3b7294",
   "metadata": {},
   "outputs": [
    {
     "data": {
      "text/plain": [
       "0    16884.92400\n",
       "1     1725.55230\n",
       "2     4449.46200\n",
       "3    21984.47061\n",
       "4     3866.85520\n",
       "Name: charges, dtype: float64"
      ]
     },
     "execution_count": 158,
     "metadata": {},
     "output_type": "execute_result"
    }
   ],
   "source": [
    "df['charges'].head()"
   ]
  },
  {
   "cell_type": "markdown",
   "id": "5bdc2129",
   "metadata": {},
   "source": [
    "### 5. Interpret your p-value and reject or fail to reject your null hypothesis "
   ]
  },
  {
   "cell_type": "markdown",
   "id": "e8e0a63c",
   "metadata": {},
   "source": [
    "### 6. Show a supporting visualization that helps display the result"
   ]
  },
  {
   "cell_type": "code",
   "execution_count": null,
   "id": "808da892",
   "metadata": {},
   "outputs": [],
   "source": []
  }
 ],
 "metadata": {
  "kernelspec": {
   "display_name": "Python 3 (ipykernel)",
   "language": "python",
   "name": "python3"
  },
  "language_info": {
   "codemirror_mode": {
    "name": "ipython",
    "version": 3
   },
   "file_extension": ".py",
   "mimetype": "text/x-python",
   "name": "python",
   "nbconvert_exporter": "python",
   "pygments_lexer": "ipython3",
   "version": "3.9.15"
  },
  "toc": {
   "base_numbering": 1,
   "nav_menu": {},
   "number_sections": false,
   "sideBar": true,
   "skip_h1_title": false,
   "title_cell": "Table of Contents",
   "title_sidebar": "Contents",
   "toc_cell": false,
   "toc_position": {},
   "toc_section_display": true,
   "toc_window_display": false
  }
 },
 "nbformat": 4,
 "nbformat_minor": 5
}
